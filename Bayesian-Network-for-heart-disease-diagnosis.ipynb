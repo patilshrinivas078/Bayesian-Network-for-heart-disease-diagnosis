{
 "cells": [
  {
   "cell_type": "markdown",
   "id": "adc75249-a943-42b4-9bec-8769691283dd",
   "metadata": {},
   "source": [
    "## Constructing a Bayesian network to demonstrate the diagnosis of heart patients using the standard Heart Disease Data Set.\n"
   ]
  },
  {
   "cell_type": "code",
   "execution_count": 1,
   "id": "16b9cd98-43cd-437f-bc06-ae33f30b55cf",
   "metadata": {},
   "outputs": [],
   "source": [
    "import pandas as pd"
   ]
  },
  {
   "cell_type": "markdown",
   "id": "51fb1cd2-4fd0-4a69-9ef3-fe520e92c000",
   "metadata": {},
   "source": [
    "### Loading the data"
   ]
  },
  {
   "cell_type": "code",
   "execution_count": 2,
   "id": "fe2a671a-9a45-454b-870a-8f1bf5dab8a1",
   "metadata": {},
   "outputs": [],
   "source": [
    "df = pd.read_csv(\"heart_disease.csv\")"
   ]
  },
  {
   "cell_type": "code",
   "execution_count": 3,
   "id": "0f15ad7b-e957-4679-bf5d-27d53add1ba3",
   "metadata": {
    "scrolled": true
   },
   "outputs": [
    {
     "data": {
      "text/html": [
       "<div>\n",
       "<style scoped>\n",
       "    .dataframe tbody tr th:only-of-type {\n",
       "        vertical-align: middle;\n",
       "    }\n",
       "\n",
       "    .dataframe tbody tr th {\n",
       "        vertical-align: top;\n",
       "    }\n",
       "\n",
       "    .dataframe thead th {\n",
       "        text-align: right;\n",
       "    }\n",
       "</style>\n",
       "<table border=\"1\" class=\"dataframe\">\n",
       "  <thead>\n",
       "    <tr style=\"text-align: right;\">\n",
       "      <th></th>\n",
       "      <th>Age</th>\n",
       "      <th>Sex</th>\n",
       "      <th>ChestPainType</th>\n",
       "      <th>RestingBP</th>\n",
       "      <th>Cholesterol</th>\n",
       "      <th>FastingBS</th>\n",
       "      <th>RestingECG</th>\n",
       "      <th>MaxHR</th>\n",
       "      <th>ExerciseAngina</th>\n",
       "      <th>Oldpeak</th>\n",
       "      <th>ST_Slope</th>\n",
       "      <th>HeartDisease</th>\n",
       "    </tr>\n",
       "  </thead>\n",
       "  <tbody>\n",
       "    <tr>\n",
       "      <th>0</th>\n",
       "      <td>40</td>\n",
       "      <td>M</td>\n",
       "      <td>ATA</td>\n",
       "      <td>140</td>\n",
       "      <td>289</td>\n",
       "      <td>0</td>\n",
       "      <td>Normal</td>\n",
       "      <td>172</td>\n",
       "      <td>N</td>\n",
       "      <td>0.0</td>\n",
       "      <td>Up</td>\n",
       "      <td>0</td>\n",
       "    </tr>\n",
       "    <tr>\n",
       "      <th>1</th>\n",
       "      <td>49</td>\n",
       "      <td>F</td>\n",
       "      <td>NAP</td>\n",
       "      <td>160</td>\n",
       "      <td>180</td>\n",
       "      <td>0</td>\n",
       "      <td>Normal</td>\n",
       "      <td>156</td>\n",
       "      <td>N</td>\n",
       "      <td>1.0</td>\n",
       "      <td>Flat</td>\n",
       "      <td>1</td>\n",
       "    </tr>\n",
       "    <tr>\n",
       "      <th>2</th>\n",
       "      <td>37</td>\n",
       "      <td>M</td>\n",
       "      <td>ATA</td>\n",
       "      <td>130</td>\n",
       "      <td>283</td>\n",
       "      <td>0</td>\n",
       "      <td>ST</td>\n",
       "      <td>98</td>\n",
       "      <td>N</td>\n",
       "      <td>0.0</td>\n",
       "      <td>Up</td>\n",
       "      <td>0</td>\n",
       "    </tr>\n",
       "    <tr>\n",
       "      <th>3</th>\n",
       "      <td>48</td>\n",
       "      <td>F</td>\n",
       "      <td>ASY</td>\n",
       "      <td>138</td>\n",
       "      <td>214</td>\n",
       "      <td>0</td>\n",
       "      <td>Normal</td>\n",
       "      <td>108</td>\n",
       "      <td>Y</td>\n",
       "      <td>1.5</td>\n",
       "      <td>Flat</td>\n",
       "      <td>1</td>\n",
       "    </tr>\n",
       "    <tr>\n",
       "      <th>4</th>\n",
       "      <td>54</td>\n",
       "      <td>M</td>\n",
       "      <td>NAP</td>\n",
       "      <td>150</td>\n",
       "      <td>195</td>\n",
       "      <td>0</td>\n",
       "      <td>Normal</td>\n",
       "      <td>122</td>\n",
       "      <td>N</td>\n",
       "      <td>0.0</td>\n",
       "      <td>Up</td>\n",
       "      <td>0</td>\n",
       "    </tr>\n",
       "  </tbody>\n",
       "</table>\n",
       "</div>"
      ],
      "text/plain": [
       "   Age Sex ChestPainType  RestingBP  Cholesterol  FastingBS RestingECG  MaxHR  \\\n",
       "0   40   M           ATA        140          289          0     Normal    172   \n",
       "1   49   F           NAP        160          180          0     Normal    156   \n",
       "2   37   M           ATA        130          283          0         ST     98   \n",
       "3   48   F           ASY        138          214          0     Normal    108   \n",
       "4   54   M           NAP        150          195          0     Normal    122   \n",
       "\n",
       "  ExerciseAngina  Oldpeak ST_Slope  HeartDisease  \n",
       "0              N      0.0       Up             0  \n",
       "1              N      1.0     Flat             1  \n",
       "2              N      0.0       Up             0  \n",
       "3              Y      1.5     Flat             1  \n",
       "4              N      0.0       Up             0  "
      ]
     },
     "execution_count": 3,
     "metadata": {},
     "output_type": "execute_result"
    }
   ],
   "source": [
    "df.head()"
   ]
  },
  {
   "cell_type": "code",
   "execution_count": 4,
   "id": "ad18c217-5b2f-4690-9066-9b8ebf3449db",
   "metadata": {},
   "outputs": [
    {
     "data": {
      "text/plain": [
       "(918, 12)"
      ]
     },
     "execution_count": 4,
     "metadata": {},
     "output_type": "execute_result"
    }
   ],
   "source": [
    "df.shape"
   ]
  },
  {
   "cell_type": "code",
   "execution_count": 5,
   "id": "47aea6a2-efdc-425e-b72b-fcc101422cdf",
   "metadata": {},
   "outputs": [
    {
     "name": "stdout",
     "output_type": "stream",
     "text": [
      "<class 'pandas.core.frame.DataFrame'>\n",
      "RangeIndex: 918 entries, 0 to 917\n",
      "Data columns (total 12 columns):\n",
      " #   Column          Non-Null Count  Dtype  \n",
      "---  ------          --------------  -----  \n",
      " 0   Age             918 non-null    int64  \n",
      " 1   Sex             918 non-null    object \n",
      " 2   ChestPainType   918 non-null    object \n",
      " 3   RestingBP       918 non-null    int64  \n",
      " 4   Cholesterol     918 non-null    int64  \n",
      " 5   FastingBS       918 non-null    int64  \n",
      " 6   RestingECG      918 non-null    object \n",
      " 7   MaxHR           918 non-null    int64  \n",
      " 8   ExerciseAngina  918 non-null    object \n",
      " 9   Oldpeak         918 non-null    float64\n",
      " 10  ST_Slope        918 non-null    object \n",
      " 11  HeartDisease    918 non-null    int64  \n",
      "dtypes: float64(1), int64(6), object(5)\n",
      "memory usage: 86.2+ KB\n"
     ]
    }
   ],
   "source": [
    "df.info()"
   ]
  },
  {
   "cell_type": "markdown",
   "id": "8386e1e1-cc49-4405-94bd-0a063e2b6fe7",
   "metadata": {},
   "source": [
    "### Data Preprocessing"
   ]
  },
  {
   "cell_type": "code",
   "execution_count": 6,
   "id": "eb508d64-ee9f-466c-a308-abecdcc9577d",
   "metadata": {},
   "outputs": [
    {
     "data": {
      "text/plain": [
       "Age               0\n",
       "Sex               0\n",
       "ChestPainType     0\n",
       "RestingBP         0\n",
       "Cholesterol       0\n",
       "FastingBS         0\n",
       "RestingECG        0\n",
       "MaxHR             0\n",
       "ExerciseAngina    0\n",
       "Oldpeak           0\n",
       "ST_Slope          0\n",
       "HeartDisease      0\n",
       "dtype: int64"
      ]
     },
     "execution_count": 6,
     "metadata": {},
     "output_type": "execute_result"
    }
   ],
   "source": [
    "df.isnull().sum()"
   ]
  },
  {
   "cell_type": "code",
   "execution_count": 7,
   "id": "11dc1f88-2d50-458d-a061-7f64cca82c30",
   "metadata": {},
   "outputs": [
    {
     "data": {
      "text/html": [
       "<div>\n",
       "<style scoped>\n",
       "    .dataframe tbody tr th:only-of-type {\n",
       "        vertical-align: middle;\n",
       "    }\n",
       "\n",
       "    .dataframe tbody tr th {\n",
       "        vertical-align: top;\n",
       "    }\n",
       "\n",
       "    .dataframe thead th {\n",
       "        text-align: right;\n",
       "    }\n",
       "</style>\n",
       "<table border=\"1\" class=\"dataframe\">\n",
       "  <thead>\n",
       "    <tr style=\"text-align: right;\">\n",
       "      <th></th>\n",
       "      <th>Age</th>\n",
       "      <th>RestingBP</th>\n",
       "      <th>Cholesterol</th>\n",
       "      <th>FastingBS</th>\n",
       "      <th>MaxHR</th>\n",
       "      <th>Oldpeak</th>\n",
       "      <th>HeartDisease</th>\n",
       "    </tr>\n",
       "  </thead>\n",
       "  <tbody>\n",
       "    <tr>\n",
       "      <th>count</th>\n",
       "      <td>918.000000</td>\n",
       "      <td>918.000000</td>\n",
       "      <td>918.000000</td>\n",
       "      <td>918.000000</td>\n",
       "      <td>918.000000</td>\n",
       "      <td>918.000000</td>\n",
       "      <td>918.000000</td>\n",
       "    </tr>\n",
       "    <tr>\n",
       "      <th>mean</th>\n",
       "      <td>53.510893</td>\n",
       "      <td>132.396514</td>\n",
       "      <td>198.799564</td>\n",
       "      <td>0.233115</td>\n",
       "      <td>136.809368</td>\n",
       "      <td>0.887364</td>\n",
       "      <td>0.553377</td>\n",
       "    </tr>\n",
       "    <tr>\n",
       "      <th>std</th>\n",
       "      <td>9.432617</td>\n",
       "      <td>18.514154</td>\n",
       "      <td>109.384145</td>\n",
       "      <td>0.423046</td>\n",
       "      <td>25.460334</td>\n",
       "      <td>1.066570</td>\n",
       "      <td>0.497414</td>\n",
       "    </tr>\n",
       "    <tr>\n",
       "      <th>min</th>\n",
       "      <td>28.000000</td>\n",
       "      <td>0.000000</td>\n",
       "      <td>0.000000</td>\n",
       "      <td>0.000000</td>\n",
       "      <td>60.000000</td>\n",
       "      <td>-2.600000</td>\n",
       "      <td>0.000000</td>\n",
       "    </tr>\n",
       "    <tr>\n",
       "      <th>25%</th>\n",
       "      <td>47.000000</td>\n",
       "      <td>120.000000</td>\n",
       "      <td>173.250000</td>\n",
       "      <td>0.000000</td>\n",
       "      <td>120.000000</td>\n",
       "      <td>0.000000</td>\n",
       "      <td>0.000000</td>\n",
       "    </tr>\n",
       "    <tr>\n",
       "      <th>50%</th>\n",
       "      <td>54.000000</td>\n",
       "      <td>130.000000</td>\n",
       "      <td>223.000000</td>\n",
       "      <td>0.000000</td>\n",
       "      <td>138.000000</td>\n",
       "      <td>0.600000</td>\n",
       "      <td>1.000000</td>\n",
       "    </tr>\n",
       "    <tr>\n",
       "      <th>75%</th>\n",
       "      <td>60.000000</td>\n",
       "      <td>140.000000</td>\n",
       "      <td>267.000000</td>\n",
       "      <td>0.000000</td>\n",
       "      <td>156.000000</td>\n",
       "      <td>1.500000</td>\n",
       "      <td>1.000000</td>\n",
       "    </tr>\n",
       "    <tr>\n",
       "      <th>max</th>\n",
       "      <td>77.000000</td>\n",
       "      <td>200.000000</td>\n",
       "      <td>603.000000</td>\n",
       "      <td>1.000000</td>\n",
       "      <td>202.000000</td>\n",
       "      <td>6.200000</td>\n",
       "      <td>1.000000</td>\n",
       "    </tr>\n",
       "  </tbody>\n",
       "</table>\n",
       "</div>"
      ],
      "text/plain": [
       "              Age   RestingBP  Cholesterol   FastingBS       MaxHR  \\\n",
       "count  918.000000  918.000000   918.000000  918.000000  918.000000   \n",
       "mean    53.510893  132.396514   198.799564    0.233115  136.809368   \n",
       "std      9.432617   18.514154   109.384145    0.423046   25.460334   \n",
       "min     28.000000    0.000000     0.000000    0.000000   60.000000   \n",
       "25%     47.000000  120.000000   173.250000    0.000000  120.000000   \n",
       "50%     54.000000  130.000000   223.000000    0.000000  138.000000   \n",
       "75%     60.000000  140.000000   267.000000    0.000000  156.000000   \n",
       "max     77.000000  200.000000   603.000000    1.000000  202.000000   \n",
       "\n",
       "          Oldpeak  HeartDisease  \n",
       "count  918.000000    918.000000  \n",
       "mean     0.887364      0.553377  \n",
       "std      1.066570      0.497414  \n",
       "min     -2.600000      0.000000  \n",
       "25%      0.000000      0.000000  \n",
       "50%      0.600000      1.000000  \n",
       "75%      1.500000      1.000000  \n",
       "max      6.200000      1.000000  "
      ]
     },
     "execution_count": 7,
     "metadata": {},
     "output_type": "execute_result"
    }
   ],
   "source": [
    "df.describe()"
   ]
  },
  {
   "cell_type": "code",
   "execution_count": 8,
   "id": "3e677a20-9bdd-4a02-a6aa-9d0985cd151d",
   "metadata": {},
   "outputs": [],
   "source": [
    "df = df.drop(columns=['ChestPainType', 'MaxHR', 'Oldpeak', 'ST_Slope'], axis=1)"
   ]
  },
  {
   "cell_type": "code",
   "execution_count": 9,
   "id": "d403107b-43b2-4885-a658-453ba7032065",
   "metadata": {},
   "outputs": [],
   "source": [
    "from sklearn.preprocessing import LabelEncoder\n",
    "categorical_columns = ['Sex', 'RestingECG', 'ExerciseAngina']\n",
    "label_encoder = LabelEncoder()\n",
    "\n",
    "for column in categorical_columns:\n",
    "    df[column] = label_encoder.fit_transform(df[column])"
   ]
  },
  {
   "cell_type": "code",
   "execution_count": 10,
   "id": "a4570db6-4284-4d50-b89b-94d1e2959bd5",
   "metadata": {},
   "outputs": [
    {
     "data": {
      "text/html": [
       "<div>\n",
       "<style scoped>\n",
       "    .dataframe tbody tr th:only-of-type {\n",
       "        vertical-align: middle;\n",
       "    }\n",
       "\n",
       "    .dataframe tbody tr th {\n",
       "        vertical-align: top;\n",
       "    }\n",
       "\n",
       "    .dataframe thead th {\n",
       "        text-align: right;\n",
       "    }\n",
       "</style>\n",
       "<table border=\"1\" class=\"dataframe\">\n",
       "  <thead>\n",
       "    <tr style=\"text-align: right;\">\n",
       "      <th></th>\n",
       "      <th>Age</th>\n",
       "      <th>Sex</th>\n",
       "      <th>RestingBP</th>\n",
       "      <th>Cholesterol</th>\n",
       "      <th>FastingBS</th>\n",
       "      <th>RestingECG</th>\n",
       "      <th>ExerciseAngina</th>\n",
       "      <th>HeartDisease</th>\n",
       "    </tr>\n",
       "  </thead>\n",
       "  <tbody>\n",
       "    <tr>\n",
       "      <th>0</th>\n",
       "      <td>40</td>\n",
       "      <td>1</td>\n",
       "      <td>140</td>\n",
       "      <td>289</td>\n",
       "      <td>0</td>\n",
       "      <td>1</td>\n",
       "      <td>0</td>\n",
       "      <td>0</td>\n",
       "    </tr>\n",
       "    <tr>\n",
       "      <th>1</th>\n",
       "      <td>49</td>\n",
       "      <td>0</td>\n",
       "      <td>160</td>\n",
       "      <td>180</td>\n",
       "      <td>0</td>\n",
       "      <td>1</td>\n",
       "      <td>0</td>\n",
       "      <td>1</td>\n",
       "    </tr>\n",
       "    <tr>\n",
       "      <th>2</th>\n",
       "      <td>37</td>\n",
       "      <td>1</td>\n",
       "      <td>130</td>\n",
       "      <td>283</td>\n",
       "      <td>0</td>\n",
       "      <td>2</td>\n",
       "      <td>0</td>\n",
       "      <td>0</td>\n",
       "    </tr>\n",
       "    <tr>\n",
       "      <th>3</th>\n",
       "      <td>48</td>\n",
       "      <td>0</td>\n",
       "      <td>138</td>\n",
       "      <td>214</td>\n",
       "      <td>0</td>\n",
       "      <td>1</td>\n",
       "      <td>1</td>\n",
       "      <td>1</td>\n",
       "    </tr>\n",
       "    <tr>\n",
       "      <th>4</th>\n",
       "      <td>54</td>\n",
       "      <td>1</td>\n",
       "      <td>150</td>\n",
       "      <td>195</td>\n",
       "      <td>0</td>\n",
       "      <td>1</td>\n",
       "      <td>0</td>\n",
       "      <td>0</td>\n",
       "    </tr>\n",
       "  </tbody>\n",
       "</table>\n",
       "</div>"
      ],
      "text/plain": [
       "   Age  Sex  RestingBP  Cholesterol  FastingBS  RestingECG  ExerciseAngina  \\\n",
       "0   40    1        140          289          0           1               0   \n",
       "1   49    0        160          180          0           1               0   \n",
       "2   37    1        130          283          0           2               0   \n",
       "3   48    0        138          214          0           1               1   \n",
       "4   54    1        150          195          0           1               0   \n",
       "\n",
       "   HeartDisease  \n",
       "0             0  \n",
       "1             1  \n",
       "2             0  \n",
       "3             1  \n",
       "4             0  "
      ]
     },
     "execution_count": 10,
     "metadata": {},
     "output_type": "execute_result"
    }
   ],
   "source": [
    "df.head()"
   ]
  },
  {
   "cell_type": "code",
   "execution_count": 11,
   "id": "07c53ed3-de8d-41d7-9d26-9dbe52c6d32c",
   "metadata": {},
   "outputs": [
    {
     "name": "stderr",
     "output_type": "stream",
     "text": [
      "C:\\Users\\SHRINIVAS\\AppData\\Local\\Programs\\Python\\Python310\\lib\\site-packages\\seaborn\\categorical.py:632: FutureWarning: SeriesGroupBy.grouper is deprecated and will be removed in a future version of pandas.\n",
      "  positions = grouped.grouper.result_index.to_numpy(dtype=float)\n"
     ]
    },
    {
     "data": {
      "text/plain": [
       "<Axes: ylabel='Cholesterol'>"
      ]
     },
     "execution_count": 11,
     "metadata": {},
     "output_type": "execute_result"
    },
    {
     "data": {
      "image/png": "[encoded data removed]",
      "text/plain": [
       "<Figure size 640x480 with 1 Axes>"
      ]
     },
     "metadata": {},
     "output_type": "display_data"
    }
   ],
   "source": [
    "import seaborn as sns\n",
    "sns.boxplot(df['Cholesterol'])"
   ]
  },
  {
   "cell_type": "code",
   "execution_count": 12,
   "id": "2dfbac32-724a-41a0-b958-99731e8c789b",
   "metadata": {},
   "outputs": [
    {
     "name": "stderr",
     "output_type": "stream",
     "text": [
      "C:\\Users\\SHRINIVAS\\AppData\\Local\\Programs\\Python\\Python310\\lib\\site-packages\\seaborn\\categorical.py:632: FutureWarning: SeriesGroupBy.grouper is deprecated and will be removed in a future version of pandas.\n",
      "  positions = grouped.grouper.result_index.to_numpy(dtype=float)\n"
     ]
    },
    {
     "data": {
      "text/plain": [
       "<Axes: ylabel='RestingBP'>"
      ]
     },
     "execution_count": 12,
     "metadata": {},
     "output_type": "execute_result"
    },
    {
     "data": {
      "image/png": "[encoded data removed]",
      "text/plain": [
       "<Figure size 640x480 with 1 Axes>"
      ]
     },
     "metadata": {},
     "output_type": "display_data"
    }
   ],
   "source": [
    "sns.boxplot(df['RestingBP'])"
   ]
  },
  {
   "cell_type": "code",
   "execution_count": 13,
   "id": "6d841343-a490-4c6f-8411-049984f1865f",
   "metadata": {},
   "outputs": [],
   "source": [
    "# Remove rows where Cholesterol or RestingBP is 0\n",
    "df = df[(df['Cholesterol'] != 0) & (df['RestingBP'] != 0)]"
   ]
  },
  {
   "cell_type": "markdown",
   "id": "c036dbd9-83e4-4575-93ea-50f96403d3b1",
   "metadata": {},
   "source": [
    "### Discretizing continuous data"
   ]
  },
  {
   "cell_type": "code",
   "execution_count": 14,
   "id": "b35fc890-8ac2-42d8-9d9d-7ce677bba2f4",
   "metadata": {},
   "outputs": [],
   "source": [
    "age_bins = [0, 30, 40, 50, 60, 100]  \n",
    "age_labels = ['0-30', '31-40', '41-50', '51-60', '>60']\n",
    "\n",
    "bp_bins = [0, 80, 90, 100, 110, 120, 130, 140, 180, 200]  \n",
    "bp_labels = ['<80', '80-89', '90-99', '100-109', '110-119', '120-129', '130-139', '140-149', '>=150']\n",
    "\n",
    "chol_bins = [0, 200, 240, 300, 600]  \n",
    "chol_labels = ['<200', '200-239', '240-299', '>=300']\n",
    "\n",
    "df['Age'] = pd.cut(df['Age'], bins=age_bins, labels=age_labels, right=False)\n",
    "df['RestingBP'] = pd.cut(df['RestingBP'], bins=bp_bins, labels=bp_labels, right=False)\n",
    "df['Cholesterol'] = pd.cut(df['Cholesterol'], bins=chol_bins, labels=chol_labels, right=False)"
   ]
  },
  {
   "cell_type": "code",
   "execution_count": 15,
   "id": "eb5fd21e-6547-4cbd-8989-8b5fabe515cd",
   "metadata": {},
   "outputs": [
    {
     "data": {
      "text/html": [
       "<div>\n",
       "<style scoped>\n",
       "    .dataframe tbody tr th:only-of-type {\n",
       "        vertical-align: middle;\n",
       "    }\n",
       "\n",
       "    .dataframe tbody tr th {\n",
       "        vertical-align: top;\n",
       "    }\n",
       "\n",
       "    .dataframe thead th {\n",
       "        text-align: right;\n",
       "    }\n",
       "</style>\n",
       "<table border=\"1\" class=\"dataframe\">\n",
       "  <thead>\n",
       "    <tr style=\"text-align: right;\">\n",
       "      <th></th>\n",
       "      <th>Age</th>\n",
       "      <th>Sex</th>\n",
       "      <th>RestingBP</th>\n",
       "      <th>Cholesterol</th>\n",
       "      <th>FastingBS</th>\n",
       "      <th>RestingECG</th>\n",
       "      <th>ExerciseAngina</th>\n",
       "      <th>HeartDisease</th>\n",
       "    </tr>\n",
       "  </thead>\n",
       "  <tbody>\n",
       "    <tr>\n",
       "      <th>0</th>\n",
       "      <td>41-50</td>\n",
       "      <td>1</td>\n",
       "      <td>140-149</td>\n",
       "      <td>240-299</td>\n",
       "      <td>0</td>\n",
       "      <td>1</td>\n",
       "      <td>0</td>\n",
       "      <td>0</td>\n",
       "    </tr>\n",
       "    <tr>\n",
       "      <th>1</th>\n",
       "      <td>41-50</td>\n",
       "      <td>0</td>\n",
       "      <td>140-149</td>\n",
       "      <td>&lt;200</td>\n",
       "      <td>0</td>\n",
       "      <td>1</td>\n",
       "      <td>0</td>\n",
       "      <td>1</td>\n",
       "    </tr>\n",
       "    <tr>\n",
       "      <th>2</th>\n",
       "      <td>31-40</td>\n",
       "      <td>1</td>\n",
       "      <td>130-139</td>\n",
       "      <td>240-299</td>\n",
       "      <td>0</td>\n",
       "      <td>2</td>\n",
       "      <td>0</td>\n",
       "      <td>0</td>\n",
       "    </tr>\n",
       "    <tr>\n",
       "      <th>3</th>\n",
       "      <td>41-50</td>\n",
       "      <td>0</td>\n",
       "      <td>130-139</td>\n",
       "      <td>200-239</td>\n",
       "      <td>0</td>\n",
       "      <td>1</td>\n",
       "      <td>1</td>\n",
       "      <td>1</td>\n",
       "    </tr>\n",
       "    <tr>\n",
       "      <th>4</th>\n",
       "      <td>51-60</td>\n",
       "      <td>1</td>\n",
       "      <td>140-149</td>\n",
       "      <td>&lt;200</td>\n",
       "      <td>0</td>\n",
       "      <td>1</td>\n",
       "      <td>0</td>\n",
       "      <td>0</td>\n",
       "    </tr>\n",
       "  </tbody>\n",
       "</table>\n",
       "</div>"
      ],
      "text/plain": [
       "     Age  Sex RestingBP Cholesterol  FastingBS  RestingECG  ExerciseAngina  \\\n",
       "0  41-50    1   140-149     240-299          0           1               0   \n",
       "1  41-50    0   140-149        <200          0           1               0   \n",
       "2  31-40    1   130-139     240-299          0           2               0   \n",
       "3  41-50    0   130-139     200-239          0           1               1   \n",
       "4  51-60    1   140-149        <200          0           1               0   \n",
       "\n",
       "   HeartDisease  \n",
       "0             0  \n",
       "1             1  \n",
       "2             0  \n",
       "3             1  \n",
       "4             0  "
      ]
     },
     "execution_count": 15,
     "metadata": {},
     "output_type": "execute_result"
    }
   ],
   "source": [
    "df.head()"
   ]
  },
  {
   "cell_type": "code",
   "execution_count": 16,
   "id": "aa74b792-0e68-458b-854b-f90114aa4c60",
   "metadata": {},
   "outputs": [],
   "source": [
    "from sklearn.model_selection import train_test_split\n",
    "train_data, test_data = train_test_split(df, test_size=0.2, random_state=42)"
   ]
  },
  {
   "cell_type": "markdown",
   "id": "6f6fb8a3-f6c8-4675-afea-97deff8786c5",
   "metadata": {},
   "source": [
    "### Constructing the Bayesian Network"
   ]
  },
  {
   "cell_type": "code",
   "execution_count": 17,
   "id": "8d9ced04-9efd-4b53-befa-315753d40296",
   "metadata": {},
   "outputs": [
    {
     "name": "stderr",
     "output_type": "stream",
     "text": [
      "C:\\Users\\SHRINIVAS\\AppData\\Local\\Programs\\Python\\Python310\\lib\\site-packages\\tqdm\\auto.py:21: TqdmWarning: IProgress not found. Please update jupyter and ipywidgets. See https://ipywidgets.readthedocs.io/en/stable/user_install.html\n",
      "  from .autonotebook import tqdm as notebook_tqdm\n"
     ]
    }
   ],
   "source": [
    "from pgmpy.models import BayesianNetwork\n",
    "\n",
    "from pgmpy.inference import VariableElimination\n",
    "\n",
    "# Define the structure of the Bayesian Network (nodes and edges)\n",
    "model = BayesianNetwork([\n",
    "    ('Age', 'RestingBP'), \n",
    "    ('Sex', 'RestingBP'), \n",
    "    ('RestingBP', 'HeartDisease'),\n",
    "    ('FastingBS', 'HeartDisease'),\n",
    "    ('HeartDisease', 'RestingECG'),\n",
    "    ('HeartDisease', 'Cholesterol')\n",
    "])"
   ]
  },
  {
   "cell_type": "code",
   "execution_count": 18,
   "id": "ba93eda3-a410-4688-be14-b12256df8a86",
   "metadata": {},
   "outputs": [
    {
     "data": {
      "text/plain": [
       "NodeView(('Age', 'RestingBP', 'Sex', 'HeartDisease', 'FastingBS', 'RestingECG', 'Cholesterol'))"
      ]
     },
     "execution_count": 18,
     "metadata": {},
     "output_type": "execute_result"
    }
   ],
   "source": [
    "model.nodes()"
   ]
  },
  {
   "cell_type": "code",
   "execution_count": 19,
   "id": "4a428fe9-f653-4c5f-83fe-34ee4df28add",
   "metadata": {},
   "outputs": [
    {
     "data": {
      "text/plain": [
       "OutEdgeView([('Age', 'RestingBP'), ('RestingBP', 'HeartDisease'), ('Sex', 'RestingBP'), ('HeartDisease', 'RestingECG'), ('HeartDisease', 'Cholesterol'), ('FastingBS', 'HeartDisease')])"
      ]
     },
     "execution_count": 19,
     "metadata": {},
     "output_type": "execute_result"
    }
   ],
   "source": [
    "model.edges()"
   ]
  },
  {
   "cell_type": "markdown",
   "id": "dcbb6e24-83b2-49b9-bee5-4809b6b9f926",
   "metadata": {},
   "source": [
    "### Visualizing the Bayesian Network"
   ]
  },
  {
   "cell_type": "code",
   "execution_count": 20,
   "id": "2688cdf7-3c1f-4ed6-8dc5-4dba9228088c",
   "metadata": {},
   "outputs": [
    {
     "data": {
      "image/png": "[encoded data removed]",
      "text/plain": [
       "<Figure size 640x480 with 1 Axes>"
      ]
     },
     "metadata": {},
     "output_type": "display_data"
    }
   ],
   "source": [
    "import matplotlib.pyplot as plt\n",
    "import seaborn as sns\n",
    "import networkx as nx\n",
    "\n",
    "graph = nx.DiGraph()\n",
    "\n",
    "# Adding edges to the graph\n",
    "for edge in model.edges():\n",
    "    graph.add_edge(edge[0], edge[1])\n",
    "\n",
    "pos = nx.spring_layout(graph, k=0.8)  \n",
    "nx.draw(graph, pos, with_labels=True, arrows=True, node_size=2500, node_color='lightblue', font_size=9, font_weight='bold')\n",
    "plt.title('Bayesian Network for Heart Disease Diagnosis')\n",
    "plt.show()"
   ]
  },
  {
   "cell_type": "markdown",
   "id": "58ee6735-37cd-45fc-b67e-9b61fa037973",
   "metadata": {},
   "source": [
    "### Estimating conditional probability distributions for each node"
   ]
  },
  {
   "cell_type": "code",
   "execution_count": 21,
   "id": "69b6b3eb-c747-4cae-a0c1-713b57849840",
   "metadata": {},
   "outputs": [],
   "source": [
    "from pgmpy.estimators import MaximumLikelihoodEstimator\n",
    "\n",
    "model.fit(train_data, estimator=MaximumLikelihoodEstimator)"
   ]
  },
  {
   "cell_type": "code",
   "execution_count": 22,
   "id": "541b234b-1f72-47be-9bd9-00cb146e8d89",
   "metadata": {},
   "outputs": [
    {
     "name": "stdout",
     "output_type": "stream",
     "text": [
      "CPD for Age:\n",
      "+------------+------------+\n",
      "| Age(0-30)  | 0.00503356 |\n",
      "+------------+------------+\n",
      "| Age(31-40) | 0.0855705  |\n",
      "+------------+------------+\n",
      "| Age(41-50) | 0.256711   |\n",
      "+------------+------------+\n",
      "| Age(51-60) | 0.416107   |\n",
      "+------------+------------+\n",
      "| Age(>60)   | 0.236577   |\n",
      "+------------+------------+\n",
      "\n",
      "CPD for RestingBP:\n",
      "+--------------------+---------------------+-----+---------------------+----------------------+\n",
      "| Age                | Age(0-30)           | ... | Age(>60)            | Age(>60)             |\n",
      "+--------------------+---------------------+-----+---------------------+----------------------+\n",
      "| Sex                | Sex(0)              | ... | Sex(0)              | Sex(1)               |\n",
      "+--------------------+---------------------+-----+---------------------+----------------------+\n",
      "| RestingBP(100-109) | 0.14285714285714285 | ... | 0.08333333333333333 | 0.02857142857142857  |\n",
      "+--------------------+---------------------+-----+---------------------+----------------------+\n",
      "| RestingBP(110-119) | 0.14285714285714285 | ... | 0.08333333333333333 | 0.06666666666666667  |\n",
      "+--------------------+---------------------+-----+---------------------+----------------------+\n",
      "| RestingBP(120-129) | 0.14285714285714285 | ... | 0.08333333333333333 | 0.19047619047619047  |\n",
      "+--------------------+---------------------+-----+---------------------+----------------------+\n",
      "| RestingBP(130-139) | 0.14285714285714285 | ... | 0.1388888888888889  | 0.26666666666666666  |\n",
      "+--------------------+---------------------+-----+---------------------+----------------------+\n",
      "| RestingBP(140-149) | 0.14285714285714285 | ... | 0.6111111111111112  | 0.4380952380952381   |\n",
      "+--------------------+---------------------+-----+---------------------+----------------------+\n",
      "| RestingBP(90-99)   | 0.14285714285714285 | ... | 0.0                 | 0.0                  |\n",
      "+--------------------+---------------------+-----+---------------------+----------------------+\n",
      "| RestingBP(>=150)   | 0.14285714285714285 | ... | 0.0                 | 0.009523809523809525 |\n",
      "+--------------------+---------------------+-----+---------------------+----------------------+\n",
      "\n",
      "CPD for Sex:\n",
      "+--------+------+\n",
      "| Sex(0) | 0.25 |\n",
      "+--------+------+\n",
      "| Sex(1) | 0.75 |\n",
      "+--------+------+\n",
      "\n",
      "CPD for HeartDisease:\n",
      "+-----------------+--------------------+-----+------------------+------------------+\n",
      "| FastingBS       | FastingBS(0)       | ... | FastingBS(1)     | FastingBS(1)     |\n",
      "+-----------------+--------------------+-----+------------------+------------------+\n",
      "| RestingBP       | RestingBP(100-109) | ... | RestingBP(90-99) | RestingBP(>=150) |\n",
      "+-----------------+--------------------+-----+------------------+------------------+\n",
      "| HeartDisease(0) | 0.7083333333333334 | ... | 0.5              | 0.0              |\n",
      "+-----------------+--------------------+-----+------------------+------------------+\n",
      "| HeartDisease(1) | 0.2916666666666667 | ... | 0.5              | 1.0              |\n",
      "+-----------------+--------------------+-----+------------------+------------------+\n",
      "\n",
      "CPD for FastingBS:\n",
      "+--------------+----------+\n",
      "| FastingBS(0) | 0.842282 |\n",
      "+--------------+----------+\n",
      "| FastingBS(1) | 0.157718 |\n",
      "+--------------+----------+\n",
      "\n",
      "CPD for RestingECG:\n",
      "+---------------+---------------------+---------------------+\n",
      "| HeartDisease  | HeartDisease(0)     | HeartDisease(1)     |\n",
      "+---------------+---------------------+---------------------+\n",
      "| RestingECG(0) | 0.19435736677115986 | 0.2743682310469314  |\n",
      "+---------------+---------------------+---------------------+\n",
      "| RestingECG(1) | 0.6677115987460815  | 0.5379061371841155  |\n",
      "+---------------+---------------------+---------------------+\n",
      "| RestingECG(2) | 0.13793103448275862 | 0.18772563176895307 |\n",
      "+---------------+---------------------+---------------------+\n",
      "\n",
      "CPD for Cholesterol:\n",
      "+----------------------+---------------------+---------------------+\n",
      "| HeartDisease         | HeartDisease(0)     | HeartDisease(1)     |\n",
      "+----------------------+---------------------+---------------------+\n",
      "| Cholesterol(200-239) | 0.34796238244514105 | 0.3079710144927536  |\n",
      "+----------------------+---------------------+---------------------+\n",
      "| Cholesterol(240-299) | 0.3166144200626959  | 0.358695652173913   |\n",
      "+----------------------+---------------------+---------------------+\n",
      "| Cholesterol(<200)    | 0.20689655172413793 | 0.16666666666666666 |\n",
      "+----------------------+---------------------+---------------------+\n",
      "| Cholesterol(>=300)   | 0.12852664576802508 | 0.16666666666666666 |\n",
      "+----------------------+---------------------+---------------------+\n",
      "\n"
     ]
    }
   ],
   "source": [
    "for cpd in model.get_cpds():\n",
    "    print(f\"CPD for {cpd.variable}:\")\n",
    "    print(cpd)\n",
    "    print() "
   ]
  },
  {
   "cell_type": "markdown",
   "id": "7e167317-983e-43fb-8f3a-c7c7188c1e92",
   "metadata": {},
   "source": [
    "### Inferencing with Bayesian Network"
   ]
  },
  {
   "cell_type": "code",
   "execution_count": 23,
   "id": "a1e909da-ec07-4cf7-aa36-c0f6970ee00f",
   "metadata": {},
   "outputs": [],
   "source": [
    "from pgmpy.inference import VariableElimination"
   ]
  },
  {
   "cell_type": "code",
   "execution_count": 24,
   "id": "b2434120-31ce-4a71-9f92-3cc57bd5d330",
   "metadata": {},
   "outputs": [],
   "source": [
    "inference = VariableElimination(model)"
   ]
  },
  {
   "cell_type": "code",
   "execution_count": 25,
   "id": "35581266-65c9-47a5-a20e-67dfcb5250cd",
   "metadata": {},
   "outputs": [
    {
     "name": "stdout",
     "output_type": "stream",
     "text": [
      "+-----------------+---------------------+\n",
      "| HeartDisease    |   phi(HeartDisease) |\n",
      "+=================+=====================+\n",
      "| HeartDisease(0) |              0.4902 |\n",
      "+-----------------+---------------------+\n",
      "| HeartDisease(1) |              0.5098 |\n",
      "+-----------------+---------------------+\n"
     ]
    }
   ],
   "source": [
    "result = inference.query(variables=['HeartDisease'], evidence={'Age': '51-60','Cholesterol': '>=300','RestingBP': '130-139'})\n",
    "print(result)"
   ]
  },
  {
   "cell_type": "code",
   "execution_count": 26,
   "id": "8bd94517-055e-4cb5-aa21-9d49eb12f2c8",
   "metadata": {},
   "outputs": [
    {
     "name": "stdout",
     "output_type": "stream",
     "text": [
      "Probability of Heart Disease given the evidence:\n",
      "+-----------------+---------------------+\n",
      "| HeartDisease    |   phi(HeartDisease) |\n",
      "+=================+=====================+\n",
      "| HeartDisease(0) |              0.3186 |\n",
      "+-----------------+---------------------+\n",
      "| HeartDisease(1) |              0.6814 |\n",
      "+-----------------+---------------------+\n"
     ]
    }
   ],
   "source": [
    "evidence = {\n",
    "    'Age': '51-60',          \n",
    "    'Cholesterol': '200-239',  \n",
    "    'RestingBP': '130-139',    \n",
    "    'FastingBS': 1,    \n",
    "    'Sex': 1,          \n",
    "    'RestingECG': 1    \n",
    "}\n",
    "result = inference.query(variables=['HeartDisease'], evidence=evidence)\n",
    "print(\"Probability of Heart Disease given the evidence:\")\n",
    "print(result)"
   ]
  },
  {
   "cell_type": "markdown",
   "id": "7f584da7-93ed-437e-ac33-daad381189c6",
   "metadata": {},
   "source": [
    "### Evaluating the Model"
   ]
  },
  {
   "cell_type": "code",
   "execution_count": 27,
   "id": "b685f92f-6faf-47b0-bc40-f46363f39b85",
   "metadata": {},
   "outputs": [],
   "source": [
    "from sklearn.metrics import precision_score, recall_score, f1_score, classification_report"
   ]
  },
  {
   "cell_type": "code",
   "execution_count": 28,
   "id": "bd06e3bd-9fdc-4c4a-82da-6c28cf18e7f3",
   "metadata": {},
   "outputs": [],
   "source": [
    "# Separate features (X) and labels (y)\n",
    "X_test = test_data[['Age', 'Cholesterol', 'RestingBP', 'FastingBS', 'Sex', 'RestingECG']]\n",
    "y_test = test_data['HeartDisease']  "
   ]
  },
  {
   "cell_type": "code",
   "execution_count": 29,
   "id": "6fb31d0e-cecd-4d1a-8353-4647d0b83ffb",
   "metadata": {},
   "outputs": [],
   "source": [
    "y_pred = []\n",
    "y_pred_prob = []\n",
    "# Loop through the test data and make predictions\n",
    "for index, row in X_test.iterrows():\n",
    "    age = row['Age']\n",
    "    chol = row['Cholesterol']\n",
    "    bp = row['RestingBP']\n",
    "    bs = row['FastingBS']\n",
    "    sex = row['Sex']\n",
    "    ecg = row['RestingECG']\n",
    "    evidence = {\n",
    "    'Age': age,          \n",
    "    'Cholesterol': chol,  \n",
    "    'RestingBP': bp,    \n",
    "    'FastingBS': bs,    \n",
    "    'Sex': sex,          \n",
    "    'RestingECG': ecg   \n",
    "    }\n",
    "    result = inference.query(variables=['HeartDisease'], evidence=evidence)\n",
    "    prob_heart_disease = result.values[1]  # Get the probability of HeartDisease = 1\n",
    "    y_pred_prob.append(prob_heart_disease)\n",
    "    \n",
    "    # Apply threshold to classify\n",
    "    y_pred.append(1 if prob_heart_disease >= 0.5 else 0)"
   ]
  },
  {
   "cell_type": "code",
   "execution_count": 30,
   "id": "a41378f8-a0ed-47e6-9190-dc2eb9686567",
   "metadata": {},
   "outputs": [
    {
     "name": "stdout",
     "output_type": "stream",
     "text": [
      "Precision: 0.72 \n",
      "Recall: 0.52 \n",
      "F1 Score: 0.60\n"
     ]
    }
   ],
   "source": [
    "precision = precision_score(y_test, y_pred)\n",
    "recall = recall_score(y_test, y_pred)\n",
    "f1 = f1_score(y_test, y_pred)\n",
    "\n",
    "print(f'Precision: {precision:.2f} \\nRecall: {recall:.2f} \\nF1 Score: {f1:.2f}')"
   ]
  },
  {
   "cell_type": "code",
   "execution_count": 31,
   "id": "14fe23aa-662b-465c-8498-12772c8fc841",
   "metadata": {},
   "outputs": [
    {
     "name": "stdout",
     "output_type": "stream",
     "text": [
      "              precision    recall  f1-score   support\n",
      "\n",
      "           0       0.59      0.77      0.67        71\n",
      "           1       0.72      0.52      0.60        79\n",
      "\n",
      "    accuracy                           0.64       150\n",
      "   macro avg       0.66      0.65      0.64       150\n",
      "weighted avg       0.66      0.64      0.64       150\n",
      "\n"
     ]
    }
   ],
   "source": [
    "report = classification_report(y_test, y_pred)\n",
    "print(report)"
   ]
  },
  {
   "cell_type": "markdown",
   "id": "0533c824-9766-4bcd-9077-54ad840b332a",
   "metadata": {},
   "source": [
    "### Visualizing Model Performance"
   ]
  },
  {
   "cell_type": "code",
   "execution_count": 32,
   "id": "9e54a49d-f9cf-4b27-ae27-795b06b5b3e4",
   "metadata": {},
   "outputs": [
    {
     "data": {
      "image/png": "[encoded data removed]",
      "text/plain": [
       "<Figure size 640x480 with 2 Axes>"
      ]
     },
     "metadata": {},
     "output_type": "display_data"
    }
   ],
   "source": [
    "from sklearn.metrics import confusion_matrix, roc_curve, auc\n",
    "cm = confusion_matrix(y_test, y_pred)\n",
    "\n",
    "sns.heatmap(cm,annot=True, fmt='g')\n",
    "plt.title('Confusion Matrix')\n",
    "\n",
    "plt.ylabel('True label')\n",
    "plt.xlabel('Predicted label')\n",
    "plt.tight_layout()\n",
    "plt.show()"
   ]
  },
  {
   "cell_type": "code",
   "execution_count": 33,
   "id": "0a0e681e-3b32-417e-bc8a-08657bb3034a",
   "metadata": {},
   "outputs": [
    {
     "name": "stdout",
     "output_type": "stream",
     "text": [
      "ROC-AUC score: 0.6882688536280975\n"
     ]
    }
   ],
   "source": [
    "fpr, tpr, thresholds = roc_curve(y_test, y_pred_prob)\n",
    "roc_auc = auc(fpr, tpr)\n",
    "print(f'ROC-AUC score: {roc_auc}')"
   ]
  },
  {
   "cell_type": "code",
   "execution_count": 34,
   "id": "7e838b66-6921-40d6-9c84-e9dccefe71a4",
   "metadata": {},
   "outputs": [
    {
     "data": {
      "image/png": "[encoded data removed]",
      "text/plain": [
       "<Figure size 600x400 with 1 Axes>"
      ]
     },
     "metadata": {},
     "output_type": "display_data"
    }
   ],
   "source": [
    "# Plotting the ROC curve\n",
    "plt.figure(figsize=(6, 4))\n",
    "plt.plot(fpr, tpr, color='blue', label='ROC curve (area = {:.2f})'.format(roc_auc))\n",
    "plt.plot([0, 1], [0, 1], color='red', linestyle='--')  # Diagonal line\n",
    "plt.xlabel('False Positive Rate')\n",
    "plt.ylabel('True Positive Rate')\n",
    "plt.title('Receiver Operating Characteristic (ROC) Curve')\n",
    "plt.legend(loc=\"lower right\")\n",
    "plt.grid()\n",
    "plt.show()"
   ]
  },
  {
   "cell_type": "code",
   "execution_count": null,
   "id": "dc6d36fb-a353-42e6-95a9-9d2117a84787",
   "metadata": {},
   "outputs": [],
   "source": []
  },
  {
   "cell_type": "code",
   "execution_count": null,
   "id": "6b0457a6-2985-4256-8a6b-9bbce3947c1c",
   "metadata": {},
   "outputs": [],
   "source": []
  }
 ],
 "metadata": {
  "kernelspec": {
   "display_name": "Python 3 (ipykernel)",
   "language": "python",
   "name": "python3"
  },
  "language_info": {
   "codemirror_mode": {
    "name": "ipython",
    "version": 3
   },
   "file_extension": ".py",
   "mimetype": "text/x-python",
   "name": "python",
   "nbconvert_exporter": "python",
   "pygments_lexer": "ipython3",
   "version": "3.10.6"
  }
 },
 "nbformat": 4,
 "nbformat_minor": 5
}
